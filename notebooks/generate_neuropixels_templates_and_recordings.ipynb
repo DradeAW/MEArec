{
 "cells": [
  {
   "cell_type": "markdown",
   "metadata": {},
   "source": [
    "## Generate templates\n",
    "\n",
    "If you have already generated templates, move to `Generate recordings` section."
   ]
  },
  {
   "cell_type": "code",
   "execution_count": 1,
   "metadata": {},
   "outputs": [],
   "source": [
    "import MEArec as mr\n",
    "import numpy as np\n",
    "import matplotlib.pylab as plt\n",
    "from pprint import pprint\n",
    "%matplotlib notebook"
   ]
  },
  {
   "cell_type": "code",
   "execution_count": 2,
   "metadata": {},
   "outputs": [],
   "source": [
    "templates_params = mr.get_default_templates_params()\n",
    "cell_models_folder = mr.get_default_cell_models_folder()"
   ]
  },
  {
   "cell_type": "code",
   "execution_count": 3,
   "metadata": {},
   "outputs": [
    {
     "name": "stdout",
     "output_type": "stream",
     "text": [
      "/Users/abuccino/.config/mearec/1.7.0/cell_models/bbp\n"
     ]
    }
   ],
   "source": [
    "print(cell_models_folder)"
   ]
  },
  {
   "cell_type": "code",
   "execution_count": 4,
   "metadata": {},
   "outputs": [
    {
     "name": "stdout",
     "output_type": "stream",
     "text": [
      "{'check_for_drift_amp': False,\n",
      " 'cut_out': [2, 5],\n",
      " 'delay': 10,\n",
      " 'drift_steps': 30,\n",
      " 'drift_within_bounds': False,\n",
      " 'drift_xlim': [-10, 10],\n",
      " 'drift_ylim': [-10, 10],\n",
      " 'drift_zlim': [30, 80],\n",
      " 'drifting': False,\n",
      " 'dt': 0.03125,\n",
      " 'max_drift': 100,\n",
      " 'max_iterations': 1000,\n",
      " 'min_amp': 30,\n",
      " 'min_drift': 30,\n",
      " 'n': 50,\n",
      " 'ncontacts': 10,\n",
      " 'offset': 0,\n",
      " 'overhang': 30,\n",
      " 'probe': 'Neuronexus-32',\n",
      " 'rot': 'physrot',\n",
      " 'seed': None,\n",
      " 'sim_time': 1,\n",
      " 'target_spikes': [3, 50],\n",
      " 'timeout': None,\n",
      " 'weights': [0.25, 1.75],\n",
      " 'xlim': [10, 80],\n",
      " 'ylim': None,\n",
      " 'zlim': None}\n"
     ]
    }
   ],
   "source": [
    "pprint(templates_params)"
   ]
  },
  {
   "cell_type": "code",
   "execution_count": 5,
   "metadata": {},
   "outputs": [],
   "source": [
    "templates_params['probe'] = 'Neuropixels-384'\n",
    "templates_params['n'] = 300"
   ]
  },
  {
   "cell_type": "code",
   "execution_count": null,
   "metadata": {},
   "outputs": [],
   "source": [
    "tempgen = mr.gen_templates?"
   ]
  },
  {
   "cell_type": "code",
   "execution_count": null,
   "metadata": {},
   "outputs": [
    {
     "name": "stdout",
     "output_type": "stream",
     "text": [
      "Running with 4 jobs\n"
     ]
    }
   ],
   "source": [
    "tempgen = mr.gen_templates(cell_models_folder=cell_models_folder, params=templates_params, verbose=True,\n",
    "                           n_jobs=4)"
   ]
  },
  {
   "cell_type": "code",
   "execution_count": null,
   "metadata": {},
   "outputs": [],
   "source": [
    "# extract template amplitudes\n",
    "amps = []\n",
    "for t in tempgen.templates:\n",
    "    amps.append(np.abs(np.min(t)))\n",
    "amps = np.array(amps)"
   ]
  },
  {
   "cell_type": "code",
   "execution_count": null,
   "metadata": {},
   "outputs": [],
   "source": [
    "_ = plt.hist(amps, bins=100)"
   ]
  },
  {
   "cell_type": "code",
   "execution_count": null,
   "metadata": {},
   "outputs": [],
   "source": [
    "# save templates\n",
    "templates_filename = 'templates_300_neuropixels.h5'\n",
    "mr.save_template_generator(tempgen=tempgen, filename=templates_filename)"
   ]
  },
  {
   "cell_type": "code",
   "execution_count": null,
   "metadata": {},
   "outputs": [],
   "source": [
    "# plot some templates\n",
    "template_ids = np.random.permutation(len(tempgen.templates))[:10]\n",
    "ax = mr.plot_templates(tempgen, template_ids=[3001], \n",
    "                       single_axes=False)"
   ]
  },
  {
   "cell_type": "markdown",
   "metadata": {},
   "source": [
    "## Generate recordings"
   ]
  },
  {
   "cell_type": "code",
   "execution_count": null,
   "metadata": {},
   "outputs": [],
   "source": [
    "# load templates (if generated)\n",
    "templates_filename = 'templates_300_neuropixels.h5'\n",
    "tempgen = mr.load_templates(templates_filename)"
   ]
  },
  {
   "cell_type": "code",
   "execution_count": null,
   "metadata": {},
   "outputs": [],
   "source": [
    "recording_params = mr.get_default_recordings_params()\n",
    "pprint(recording_params)"
   ]
  },
  {
   "cell_type": "code",
   "execution_count": null,
   "metadata": {},
   "outputs": [],
   "source": [
    "# Set parameters\n",
    "recording_params['spiketrains']['n_exc'] = 200\n",
    "recording_params['spiketrains']['n_inh'] = 50\n",
    "recording_params['spiketrains']['duration'] = 600\n",
    "recording_params['spiketrains']['seed'] = 0\n",
    "\n",
    "\n",
    "recording_params['templates']['min_amp'] = 40\n",
    "recording_params['templates']['max_amp'] = 300\n",
    "recording_params['templates']['seed'] = 0\n",
    "\n",
    "recording_params['recordings']['modulation'] = 'electrode'\n",
    "recording_params['recordings']['noise_mode'] = 'uncorrelated'\n",
    "recording_params['recordings']['noise_level'] = 10\n",
    "# use chunk options\n",
    "recording_params['recordings']['chunk_conv_duration'] = 20\n",
    "recording_params['recordings']['chunk_noise_duration'] = 20\n",
    "recording_params['recordings']['chunk_filter_duration'] = 20\n",
    "recording_params['recordings']['seed'] = 0"
   ]
  },
  {
   "cell_type": "code",
   "execution_count": null,
   "metadata": {
    "scrolled": false
   },
   "outputs": [],
   "source": [
    "recgen = mr.gen_recordings(templates=templates_filename, params=recording_params, verbose=True)"
   ]
  },
  {
   "cell_type": "code",
   "execution_count": null,
   "metadata": {},
   "outputs": [],
   "source": [
    "mr.plot_recordings(recgen, start_time=0, end_time=2)"
   ]
  },
  {
   "cell_type": "code",
   "execution_count": null,
   "metadata": {},
   "outputs": [],
   "source": [
    "# plot selected templates amplitudes\n",
    "amps = []\n",
    "for t in recgen.templates:\n",
    "    amps.append(np.abs(np.min(t)))\n",
    "amps = np.array(amps)"
   ]
  },
  {
   "cell_type": "code",
   "execution_count": null,
   "metadata": {},
   "outputs": [],
   "source": [
    "fig = plt.figure()\n",
    "ax_amp = fig.add_subplot(111)\n",
    "\n",
    "_ = ax_amp.hist(amps, bins=50)"
   ]
  },
  {
   "cell_type": "code",
   "execution_count": null,
   "metadata": {},
   "outputs": [],
   "source": [
    "# save recording\n",
    "mr.save_recording_generator(recgen, 'recording_neuropixels_600s_350cells.h5')"
   ]
  }
 ],
 "metadata": {
  "kernelspec": {
   "display_name": "Python 3",
   "language": "python",
   "name": "python3"
  },
  "language_info": {
   "codemirror_mode": {
    "name": "ipython",
    "version": 3
   },
   "file_extension": ".py",
   "mimetype": "text/x-python",
   "name": "python",
   "nbconvert_exporter": "python",
   "pygments_lexer": "ipython3",
   "version": "3.8.8"
  }
 },
 "nbformat": 4,
 "nbformat_minor": 2
}
